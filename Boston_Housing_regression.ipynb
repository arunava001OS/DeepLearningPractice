{
  "nbformat": 4,
  "nbformat_minor": 0,
  "metadata": {
    "colab": {
      "name": "Boston_Housing_regression.ipynb",
      "provenance": []
    },
    "kernelspec": {
      "name": "python3",
      "display_name": "Python 3"
    }
  },
  "cells": [
    {
      "cell_type": "code",
      "metadata": {
        "id": "n1MbUI--1bnJ"
      },
      "source": [
        "import tensorflow as tf\n",
        "import matplotlib.pyplot as plt\n",
        "import numpy as np"
      ],
      "execution_count": 1,
      "outputs": []
    },
    {
      "cell_type": "code",
      "metadata": {
        "id": "1eWKxuRq1tO2"
      },
      "source": [
        "from keras.datasets import boston_housing\n",
        "\n",
        "(train_data,train_labels),(test_data,test_labels) = boston_housing.load_data()"
      ],
      "execution_count": 8,
      "outputs": []
    },
    {
      "cell_type": "code",
      "metadata": {
        "id": "OO6e1Hou2CtI",
        "outputId": "363ef7fe-5458-469f-f226-1a0e4ab25670",
        "colab": {
          "base_uri": "https://localhost:8080/",
          "height": 92
        }
      },
      "source": [
        "print(\"Shape of training data:\",str(train_data.shape))\n",
        "print(\"Shape of training labels:\",str(train_labels.shape))\n",
        "print(\"Shape of testing data:\",str(test_data.shape))\n",
        "print(\"Shape of testing labels:\",str(test_labels.shape))"
      ],
      "execution_count": 9,
      "outputs": [
        {
          "output_type": "stream",
          "text": [
            "Shape of training data: (404, 13)\n",
            "Shape of training labels: (404,)\n",
            "Shape of testing data: (102, 13)\n",
            "Shape of testing labels: (102,)\n"
          ],
          "name": "stdout"
        }
      ]
    },
    {
      "cell_type": "code",
      "metadata": {
        "id": "-ez7WHif2ZMO"
      },
      "source": [
        "mean = train_data.mean(axis=0)\n",
        "train_data -= mean\n",
        "std = train_data.std(axis=0)\n",
        "train_data /= std\n",
        "\n",
        "test_data -= mean\n",
        "test_data /= std"
      ],
      "execution_count": 10,
      "outputs": []
    },
    {
      "cell_type": "code",
      "metadata": {
        "id": "T6jr_Zvg2nvH",
        "outputId": "66182683-0072-428c-b80a-4f98da0818fe",
        "colab": {
          "base_uri": "https://localhost:8080/",
          "height": 280
        }
      },
      "source": [
        "model = tf.keras.models.Sequential(\n",
        "    [\n",
        "     tf.keras.layers.Dense(64,activation = 'relu',input_shape=(train_data.shape[1],)),\n",
        "     tf.keras.layers.Dense(64,activation = 'relu'),\n",
        "     tf.keras.layers.Dense(1)\n",
        "    ]\n",
        ")\n",
        "model.compile(optimizer='rmsprop', loss='mse', metrics=['mae'])\n",
        "model.summary()"
      ],
      "execution_count": 30,
      "outputs": [
        {
          "output_type": "stream",
          "text": [
            "Model: \"sequential_2\"\n",
            "_________________________________________________________________\n",
            "Layer (type)                 Output Shape              Param #   \n",
            "=================================================================\n",
            "dense_6 (Dense)              (None, 64)                896       \n",
            "_________________________________________________________________\n",
            "dense_7 (Dense)              (None, 64)                4160      \n",
            "_________________________________________________________________\n",
            "dense_8 (Dense)              (None, 1)                 65        \n",
            "=================================================================\n",
            "Total params: 5,121\n",
            "Trainable params: 5,121\n",
            "Non-trainable params: 0\n",
            "_________________________________________________________________\n"
          ],
          "name": "stdout"
        }
      ]
    },
    {
      "cell_type": "code",
      "metadata": {
        "id": "IruvGZ323ouj",
        "outputId": "e394581f-46a8-4ebe-8020-a2b740d87234",
        "colab": {
          "base_uri": "https://localhost:8080/",
          "height": 1000
        }
      },
      "source": [
        "history = model.fit(train_data,train_labels,epochs = 80)"
      ],
      "execution_count": 31,
      "outputs": [
        {
          "output_type": "stream",
          "text": [
            "Epoch 1/80\n",
            "13/13 [==============================] - 0s 1ms/step - loss: 497.1414 - mae: 20.3340\n",
            "Epoch 2/80\n",
            "13/13 [==============================] - 0s 1ms/step - loss: 388.3188 - mae: 17.5471\n",
            "Epoch 3/80\n",
            "13/13 [==============================] - 0s 1ms/step - loss: 278.3669 - mae: 14.4511\n",
            "Epoch 4/80\n",
            "13/13 [==============================] - 0s 1ms/step - loss: 176.1007 - mae: 11.0113\n",
            "Epoch 5/80\n",
            "13/13 [==============================] - 0s 1ms/step - loss: 105.7087 - mae: 8.0242\n",
            "Epoch 6/80\n",
            "13/13 [==============================] - 0s 1ms/step - loss: 69.1438 - mae: 6.3350\n",
            "Epoch 7/80\n",
            "13/13 [==============================] - 0s 1ms/step - loss: 49.3362 - mae: 5.2970\n",
            "Epoch 8/80\n",
            "13/13 [==============================] - 0s 1ms/step - loss: 37.4947 - mae: 4.5426\n",
            "Epoch 9/80\n",
            "13/13 [==============================] - 0s 1ms/step - loss: 30.5763 - mae: 4.0389\n",
            "Epoch 10/80\n",
            "13/13 [==============================] - 0s 1ms/step - loss: 26.2501 - mae: 3.6889\n",
            "Epoch 11/80\n",
            "13/13 [==============================] - 0s 1ms/step - loss: 23.5262 - mae: 3.4744\n",
            "Epoch 12/80\n",
            "13/13 [==============================] - 0s 1ms/step - loss: 21.4378 - mae: 3.2777\n",
            "Epoch 13/80\n",
            "13/13 [==============================] - 0s 1ms/step - loss: 19.6253 - mae: 3.1253\n",
            "Epoch 14/80\n",
            "13/13 [==============================] - 0s 1ms/step - loss: 18.1997 - mae: 3.0057\n",
            "Epoch 15/80\n",
            "13/13 [==============================] - 0s 1ms/step - loss: 17.0388 - mae: 2.8823\n",
            "Epoch 16/80\n",
            "13/13 [==============================] - 0s 1ms/step - loss: 15.9608 - mae: 2.7936\n",
            "Epoch 17/80\n",
            "13/13 [==============================] - 0s 1ms/step - loss: 15.0267 - mae: 2.6734\n",
            "Epoch 18/80\n",
            "13/13 [==============================] - 0s 1ms/step - loss: 14.2720 - mae: 2.5809\n",
            "Epoch 19/80\n",
            "13/13 [==============================] - 0s 1ms/step - loss: 13.5963 - mae: 2.5966\n",
            "Epoch 20/80\n",
            "13/13 [==============================] - 0s 1ms/step - loss: 12.8737 - mae: 2.4769\n",
            "Epoch 21/80\n",
            "13/13 [==============================] - 0s 1ms/step - loss: 12.6717 - mae: 2.4967\n",
            "Epoch 22/80\n",
            "13/13 [==============================] - 0s 1ms/step - loss: 11.7809 - mae: 2.4082\n",
            "Epoch 23/80\n",
            "13/13 [==============================] - 0s 1ms/step - loss: 11.7445 - mae: 2.3574\n",
            "Epoch 24/80\n",
            "13/13 [==============================] - 0s 1ms/step - loss: 11.4163 - mae: 2.3659\n",
            "Epoch 25/80\n",
            "13/13 [==============================] - 0s 1ms/step - loss: 10.9715 - mae: 2.3478\n",
            "Epoch 26/80\n",
            "13/13 [==============================] - 0s 1ms/step - loss: 10.8607 - mae: 2.2840\n",
            "Epoch 27/80\n",
            "13/13 [==============================] - 0s 1ms/step - loss: 10.6638 - mae: 2.2849\n",
            "Epoch 28/80\n",
            "13/13 [==============================] - 0s 1ms/step - loss: 10.4481 - mae: 2.2927\n",
            "Epoch 29/80\n",
            "13/13 [==============================] - 0s 1ms/step - loss: 10.3533 - mae: 2.2545\n",
            "Epoch 30/80\n",
            "13/13 [==============================] - 0s 1ms/step - loss: 10.1305 - mae: 2.2319\n",
            "Epoch 31/80\n",
            "13/13 [==============================] - 0s 1ms/step - loss: 9.9144 - mae: 2.2093\n",
            "Epoch 32/80\n",
            "13/13 [==============================] - 0s 1ms/step - loss: 10.0422 - mae: 2.2271\n",
            "Epoch 33/80\n",
            "13/13 [==============================] - 0s 1ms/step - loss: 9.6146 - mae: 2.1996\n",
            "Epoch 34/80\n",
            "13/13 [==============================] - 0s 1ms/step - loss: 9.5690 - mae: 2.2022\n",
            "Epoch 35/80\n",
            "13/13 [==============================] - 0s 1ms/step - loss: 9.5732 - mae: 2.1251\n",
            "Epoch 36/80\n",
            "13/13 [==============================] - 0s 1ms/step - loss: 9.4410 - mae: 2.1551\n",
            "Epoch 37/80\n",
            "13/13 [==============================] - 0s 2ms/step - loss: 9.2813 - mae: 2.1715\n",
            "Epoch 38/80\n",
            "13/13 [==============================] - 0s 1ms/step - loss: 9.0222 - mae: 2.1097\n",
            "Epoch 39/80\n",
            "13/13 [==============================] - 0s 1ms/step - loss: 9.3852 - mae: 2.1671\n",
            "Epoch 40/80\n",
            "13/13 [==============================] - 0s 1ms/step - loss: 9.0480 - mae: 2.1156\n",
            "Epoch 41/80\n",
            "13/13 [==============================] - 0s 1ms/step - loss: 9.0379 - mae: 2.1077\n",
            "Epoch 42/80\n",
            "13/13 [==============================] - 0s 2ms/step - loss: 8.7739 - mae: 2.0910\n",
            "Epoch 43/80\n",
            "13/13 [==============================] - 0s 1ms/step - loss: 8.9784 - mae: 2.1110\n",
            "Epoch 44/80\n",
            "13/13 [==============================] - 0s 1ms/step - loss: 8.7165 - mae: 2.0670\n",
            "Epoch 45/80\n",
            "13/13 [==============================] - 0s 1ms/step - loss: 8.8184 - mae: 2.0411\n",
            "Epoch 46/80\n",
            "13/13 [==============================] - 0s 1ms/step - loss: 8.7545 - mae: 2.0674\n",
            "Epoch 47/80\n",
            "13/13 [==============================] - 0s 1ms/step - loss: 8.3922 - mae: 2.0417\n",
            "Epoch 48/80\n",
            "13/13 [==============================] - 0s 1ms/step - loss: 8.5034 - mae: 2.0736\n",
            "Epoch 49/80\n",
            "13/13 [==============================] - 0s 1ms/step - loss: 8.6673 - mae: 2.0361\n",
            "Epoch 50/80\n",
            "13/13 [==============================] - 0s 1ms/step - loss: 8.4495 - mae: 2.0369\n",
            "Epoch 51/80\n",
            "13/13 [==============================] - 0s 1ms/step - loss: 8.3756 - mae: 2.0245\n",
            "Epoch 52/80\n",
            "13/13 [==============================] - 0s 1ms/step - loss: 8.4806 - mae: 2.0444\n",
            "Epoch 53/80\n",
            "13/13 [==============================] - 0s 2ms/step - loss: 8.2019 - mae: 1.9990\n",
            "Epoch 54/80\n",
            "13/13 [==============================] - 0s 1ms/step - loss: 8.0959 - mae: 2.0007\n",
            "Epoch 55/80\n",
            "13/13 [==============================] - 0s 1ms/step - loss: 8.2369 - mae: 2.0063\n",
            "Epoch 56/80\n",
            "13/13 [==============================] - 0s 1ms/step - loss: 8.0517 - mae: 2.0061\n",
            "Epoch 57/80\n",
            "13/13 [==============================] - 0s 1ms/step - loss: 8.1520 - mae: 1.9905\n",
            "Epoch 58/80\n",
            "13/13 [==============================] - 0s 1ms/step - loss: 8.0359 - mae: 1.9621\n",
            "Epoch 59/80\n",
            "13/13 [==============================] - 0s 1ms/step - loss: 7.8739 - mae: 1.9630\n",
            "Epoch 60/80\n",
            "13/13 [==============================] - 0s 1ms/step - loss: 7.9681 - mae: 2.0057\n",
            "Epoch 61/80\n",
            "13/13 [==============================] - 0s 2ms/step - loss: 7.8645 - mae: 1.9844\n",
            "Epoch 62/80\n",
            "13/13 [==============================] - 0s 2ms/step - loss: 7.8348 - mae: 1.9697\n",
            "Epoch 63/80\n",
            "13/13 [==============================] - 0s 1ms/step - loss: 7.8700 - mae: 1.9504\n",
            "Epoch 64/80\n",
            "13/13 [==============================] - 0s 1ms/step - loss: 7.6639 - mae: 1.9425\n",
            "Epoch 65/80\n",
            "13/13 [==============================] - 0s 1ms/step - loss: 7.5957 - mae: 1.9593\n",
            "Epoch 66/80\n",
            "13/13 [==============================] - 0s 1ms/step - loss: 7.5345 - mae: 1.9302\n",
            "Epoch 67/80\n",
            "13/13 [==============================] - 0s 1ms/step - loss: 7.4888 - mae: 1.9257\n",
            "Epoch 68/80\n",
            "13/13 [==============================] - 0s 1ms/step - loss: 7.4641 - mae: 1.9145\n",
            "Epoch 69/80\n",
            "13/13 [==============================] - 0s 1ms/step - loss: 7.4186 - mae: 1.9108\n",
            "Epoch 70/80\n",
            "13/13 [==============================] - 0s 1ms/step - loss: 7.5139 - mae: 1.9050\n",
            "Epoch 71/80\n",
            "13/13 [==============================] - 0s 1ms/step - loss: 7.2583 - mae: 1.9111\n",
            "Epoch 72/80\n",
            "13/13 [==============================] - 0s 1ms/step - loss: 7.3254 - mae: 1.9214\n",
            "Epoch 73/80\n",
            "13/13 [==============================] - 0s 1ms/step - loss: 7.2445 - mae: 1.9065\n",
            "Epoch 74/80\n",
            "13/13 [==============================] - 0s 1ms/step - loss: 7.1292 - mae: 1.8880\n",
            "Epoch 75/80\n",
            "13/13 [==============================] - 0s 1ms/step - loss: 7.1559 - mae: 1.8735\n",
            "Epoch 76/80\n",
            "13/13 [==============================] - 0s 1ms/step - loss: 7.3675 - mae: 1.9113\n",
            "Epoch 77/80\n",
            "13/13 [==============================] - 0s 1ms/step - loss: 6.8991 - mae: 1.8305\n",
            "Epoch 78/80\n",
            "13/13 [==============================] - 0s 1ms/step - loss: 7.0961 - mae: 1.8567\n",
            "Epoch 79/80\n",
            "13/13 [==============================] - 0s 2ms/step - loss: 7.0280 - mae: 1.8714\n",
            "Epoch 80/80\n",
            "13/13 [==============================] - 0s 1ms/step - loss: 6.8939 - mae: 1.8526\n"
          ],
          "name": "stdout"
        }
      ]
    },
    {
      "cell_type": "code",
      "metadata": {
        "id": "5PfDd9MN4uhp",
        "outputId": "9328ab7f-4114-440c-da13-320eb35680cd",
        "colab": {
          "base_uri": "https://localhost:8080/",
          "height": 36
        }
      },
      "source": [
        "print(history.history.keys())"
      ],
      "execution_count": 32,
      "outputs": [
        {
          "output_type": "stream",
          "text": [
            "dict_keys(['loss', 'mae'])\n"
          ],
          "name": "stdout"
        }
      ]
    },
    {
      "cell_type": "code",
      "metadata": {
        "id": "kHxy2IYL8rHb",
        "outputId": "dc8a6044-1015-49c0-9ad6-820ae8c26a8d",
        "colab": {
          "base_uri": "https://localhost:8080/",
          "height": 300
        }
      },
      "source": [
        "x = [i for i in range(1,81)]\n",
        "y = history.history['mae']\n",
        "\n",
        "plt.plot(x,y,'b')\n",
        "plt.title('mae')\n",
        "plt.figure()\n",
        "plt.show()"
      ],
      "execution_count": 41,
      "outputs": [
        {
          "output_type": "display_data",
          "data": {
            "image/png": "[encoded data removed]",
            "text/plain": [
              "<Figure size 432x288 with 1 Axes>"
            ]
          },
          "metadata": {
            "tags": [],
            "needs_background": "light"
          }
        },
        {
          "output_type": "display_data",
          "data": {
            "text/plain": [
              "<Figure size 432x288 with 0 Axes>"
            ]
          },
          "metadata": {
            "tags": []
          }
        }
      ]
    },
    {
      "cell_type": "code",
      "metadata": {
        "id": "amyEAnnl40UA",
        "outputId": "d9aa7a8a-6fba-4fbe-dc4d-717d3ef66ef7",
        "colab": {
          "base_uri": "https://localhost:8080/",
          "height": 300
        }
      },
      "source": [
        "x = [i for i in range(1,81)]\n",
        "y = history.history['loss']\n",
        "\n",
        "plt.plot(x,y,'b')\n",
        "plt.title('loss')\n",
        "plt.figure()\n",
        "plt.show()"
      ],
      "execution_count": 34,
      "outputs": [
        {
          "output_type": "display_data",
          "data": {
            "image/png": "[encoded data removed]",
            "text/plain": [
              "<Figure size 432x288 with 1 Axes>"
            ]
          },
          "metadata": {
            "tags": [],
            "needs_background": "light"
          }
        },
        {
          "output_type": "display_data",
          "data": {
            "text/plain": [
              "<Figure size 432x288 with 0 Axes>"
            ]
          },
          "metadata": {
            "tags": []
          }
        }
      ]
    },
    {
      "cell_type": "code",
      "metadata": {
        "id": "zLcm6BpY5I6c",
        "outputId": "8d446d7b-180f-40b1-baab-e2f1e5240433",
        "colab": {
          "base_uri": "https://localhost:8080/",
          "height": 36
        }
      },
      "source": [
        "predictions = model.predict(test_data)\n",
        "print(predictions.shape)"
      ],
      "execution_count": 35,
      "outputs": [
        {
          "output_type": "stream",
          "text": [
            "(102, 1)\n"
          ],
          "name": "stdout"
        }
      ]
    },
    {
      "cell_type": "code",
      "metadata": {
        "id": "2pPEp2945SCW",
        "outputId": "14f814e4-17a5-4eb4-ef6a-f531b2b5197f",
        "colab": {
          "base_uri": "https://localhost:8080/",
          "height": 281
        }
      },
      "source": [
        "x = [i for i in range(1,103)]\n",
        "plt.plot(x,test_labels,'r',label='actual')\n",
        "plt.plot(x,predictions,'b',label='predicted')\n",
        "plt.title('Prediction vs Actual')\n",
        "plt.legend()\n",
        "plt.show()"
      ],
      "execution_count": 36,
      "outputs": [
        {
          "output_type": "display_data",
          "data": {
            "image/png": "[encoded data removed]",
            "text/plain": [
              "<Figure size 432x288 with 1 Axes>"
            ]
          },
          "metadata": {
            "tags": [],
            "needs_background": "light"
          }
        }
      ]
    },
    {
      "cell_type": "code",
      "metadata": {
        "id": "YuI4RzDj53qJ",
        "outputId": "7fab72f7-95f8-4731-9c54-9311abf61ea1",
        "colab": {
          "base_uri": "https://localhost:8080/",
          "height": 36
        }
      },
      "source": [
        "from math import sqrt\n",
        "mse = 1/102 * sqrt(abs(np.sum(predictions**2 - train_labels**2)))\n",
        "print('MSE === ',mse)"
      ],
      "execution_count": 40,
      "outputs": [
        {
          "output_type": "stream",
          "text": [
            "MSE ===  6.443909227122985\n"
          ],
          "name": "stdout"
        }
      ]
    },
    {
      "cell_type": "code",
      "metadata": {
        "id": "Gfe3VQlN7wwK"
      },
      "source": [
        ""
      ],
      "execution_count": null,
      "outputs": []
    }
  ]
}