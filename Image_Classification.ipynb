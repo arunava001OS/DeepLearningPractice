{
  "nbformat": 4,
  "nbformat_minor": 0,
  "metadata": {
    "colab": {
      "name": "Image-Classificationipynb",
      "provenance": [],
      "collapsed_sections": []
    },
    "kernelspec": {
      "name": "python3",
      "display_name": "Python 3"
    },
    "accelerator": "GPU"
  },
  "cells": [
    {
      "cell_type": "code",
      "metadata": {
        "id": "ovv-3pDtsueK"
      },
      "source": [
        "import tensorflow as tf\n",
        "import numpy as np\n",
        "import matplotlib.pyplot as plt"
      ],
      "execution_count": 1,
      "outputs": []
    },
    {
      "cell_type": "code",
      "metadata": {
        "id": "qWIVWtSrs0k7",
        "outputId": "255e005c-64d3-46ff-f3a9-bc3e4ce50a30",
        "colab": {
          "base_uri": "https://localhost:8080/"
        }
      },
      "source": [
        "from keras.datasets import cifar10\n",
        "\n",
        "(x_train,y_train),(x_test,y_test) = cifar10.load_data()"
      ],
      "execution_count": 2,
      "outputs": [
        {
          "output_type": "stream",
          "text": [
            "Downloading data from https://www.cs.toronto.edu/~kriz/cifar-10-python.tar.gz\n",
            "170500096/170498071 [==============================] - 4s 0us/step\n"
          ],
          "name": "stdout"
        }
      ]
    },
    {
      "cell_type": "code",
      "metadata": {
        "id": "AUjOfLmms-jg",
        "outputId": "f7d082c8-9f46-4a55-98e9-39ccb77c9a8f",
        "colab": {
          "base_uri": "https://localhost:8080/"
        }
      },
      "source": [
        "print(\"Shape of training data: \",str(x_train.shape))\n",
        "print(\"Shape of testing data: \",str(x_test.shape))\n",
        "print(\"Shape of labels: \",str(y_train.shape))"
      ],
      "execution_count": 3,
      "outputs": [
        {
          "output_type": "stream",
          "text": [
            "Shape of training data:  (50000, 32, 32, 3)\n",
            "Shape of testing data:  (10000, 32, 32, 3)\n",
            "Shape of labels:  (50000, 1)\n"
          ],
          "name": "stdout"
        }
      ]
    },
    {
      "cell_type": "code",
      "metadata": {
        "id": "kyV1Rar9tZ_-",
        "outputId": "5b2c4c2a-9d50-4aca-f8bb-3cb7b92b4cd7",
        "colab": {
          "base_uri": "https://localhost:8080/"
        }
      },
      "source": [
        "x_train_flattened = x_train.reshape(x_train.shape[0],x_train.shape[1]*x_train.shape[2]*x_train.shape[3])\n",
        "x_test_flattened = x_test.reshape(x_test.shape[0],x_test.shape[1]*x_test.shape[2]*x_test.shape[3])\n",
        "print(x_train_flattened.shape)\n",
        "print(x_test_flattened.shape)"
      ],
      "execution_count": 4,
      "outputs": [
        {
          "output_type": "stream",
          "text": [
            "(50000, 3072)\n",
            "(10000, 3072)\n"
          ],
          "name": "stdout"
        }
      ]
    },
    {
      "cell_type": "markdown",
      "metadata": {
        "id": "CIJbbHJQyadU"
      },
      "source": [
        "## Nearest Neighbour Classifier"
      ]
    },
    {
      "cell_type": "code",
      "metadata": {
        "id": "Me-L03Rdt41F"
      },
      "source": [
        "class NearestNeighbour():\n",
        "  def __init__(self):\n",
        "    pass\n",
        "  def train(self,X,Y):\n",
        "    self.Xtrain = X\n",
        "    self.Ytrain = Y\n",
        "  def predict(self,X):\n",
        "    num_samples = X.shape[0]\n",
        "    Y_pred = np.zeros(num_samples,self.Ytrain.dtype)\n",
        "    for i in range(num_samples):\n",
        "      print(str(i+1),'Staus OK')\n",
        "      distances = np.sum(np.abs(self.Xtrain - X[i,:]),axis=1)\n",
        "      min_index = np.argmin(distances)\n",
        "      Y_pred[i] = self.Ytrain[min_index] \n",
        "    return Y_pred"
      ],
      "execution_count": 8,
      "outputs": []
    },
    {
      "cell_type": "code",
      "metadata": {
        "id": "sKkmS7i5wcS7"
      },
      "source": [
        "nn = NearestNeighbour()\n",
        "nn.train(x_train_flattened,y_train)\n",
        "y_pred = nn.predict(x_test_flattened)\n",
        "\n",
        "print(\"accuracy == \",str(np.mean(y_pred == y_test)))"
      ],
      "execution_count": null,
      "outputs": []
    },
    {
      "cell_type": "code",
      "metadata": {
        "id": "NEN26dzkwyGv"
      },
      "source": [
        ""
      ],
      "execution_count": null,
      "outputs": []
    }
  ]
}